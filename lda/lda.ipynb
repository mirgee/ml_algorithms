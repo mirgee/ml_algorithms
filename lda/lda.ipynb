{
 "cells": [
  {
   "cell_type": "markdown",
   "metadata": {},
   "source": [
    "# LDA"
   ]
  },
  {
   "cell_type": "markdown",
   "metadata": {},
   "source": [
    "1. Standardize $d$-dimensional dataset \n",
    "2. Compute mean vector for each class $C_i$ as $\\mathbf{m}_i = \\frac{1}{n_i} \\sum_{\\mathbf{x} \\in C_i} \\mathbf{x}$\n",
    "3. Compute eigenpairs of $\\mathbf{S}_w^{-1}\\mathbf{S}_b$ for within class scatter matrix $\\mathbf{S}_w^{-1}$ and between class scatter matrix $\\mathbf{S}_b^{-1}$\n",
    "4. Construct $d \\times k$ dimensional matrix $\\mathbf{W}$ from the $k < d$ eigenvectors with the largest eigenvalues\n",
    "5. Project the dataset using transformation matrix $\\mathbf{W}$"
   ]
  },
  {
   "cell_type": "code",
   "execution_count": 1,
   "metadata": {},
   "outputs": [
    {
     "name": "stdout",
     "output_type": "stream",
     "text": [
      "Classes: [1 2 3]\n",
      "Class label distribution: [41 50 33]\n"
     ]
    }
   ],
   "source": [
    "import numpy as np\n",
    "import matplotlib.pyplot as plt\n",
    "\n",
    "from sklearn.linear_model import LogisticRegression\n",
    "\n",
    "from plot_decision_regions import plot_decision_regions\n",
    "\n",
    "from initialize_wine import *\n",
    "\n",
    "np.set_printoptions(precision=4, suppress=True)\n",
    "labels = np.unique(y_train)\n",
    "d = X_train.shape[1]\n",
    "\n",
    "print('Classes: {}'.format(labels))\n",
    "print('Class label distribution: {}'.format(np.bincount(y_train)[1:]))"
   ]
  },
  {
   "cell_type": "code",
   "execution_count": 2,
   "metadata": {},
   "outputs": [
    {
     "name": "stdout",
     "output_type": "stream",
     "text": [
      "MV 1: [ 0.8998 -0.36    0.301  -0.743   0.4679  0.9176  0.9809 -0.6287  0.6403\n",
      "  0.2018  0.4958  0.7642  1.1697]\n",
      "\n",
      "MV 2: [-0.9191 -0.3613 -0.367   0.2926 -0.4362 -0.1187  0.0098  0.1098 -0.0235\n",
      " -0.8556  0.372   0.2343 -0.7699]\n",
      "\n",
      "MV 3: [ 0.2748  0.9947  0.1821  0.4798  0.0796 -0.9602 -1.2334  0.6148 -0.7599\n",
      "  1.0456 -1.1796 -1.3044 -0.2868]\n",
      "\n"
     ]
    }
   ],
   "source": [
    "mean_vecs = []\n",
    "for class_label in labels:\n",
    "    mean_vecs.append(np.mean(X_train_std[y_train == class_label], axis=0))    \n",
    "    print('MV %s: %s\\n' % (class_label, mean_vecs[class_label-1]))"
   ]
  },
  {
   "cell_type": "markdown",
   "metadata": {},
   "source": [
    "$\\mathbf{S}_w = \\sum_{i=1}^c \\frac{1}{n_i} \\sum_{\\mathbf{x} \\in C_i} (\\mathbf{x} - \\mathbf{m}_i) (\\mathbf{x} - \\mathbf{m}_i)^T$"
   ]
  },
  {
   "cell_type": "code",
   "execution_count": 3,
   "metadata": {
    "scrolled": true
   },
   "outputs": [
    {
     "name": "stdout",
     "output_type": "stream",
     "text": [
      "Within-class scatter matrix: 13x13\n"
     ]
    }
   ],
   "source": [
    "S_w = np.zeros((d, d))\n",
    "for label, mv in zip(labels, mean_vecs):\n",
    "    S_i = np.zeros((d,d))\n",
    "    n_i = X_train_std[y_train==label].shape[0]\n",
    "    for row in X_train_std[y_train == label]:\n",
    "        row, mv = row.reshape(d, 1), mv.reshape(d, 1)\n",
    "        # Although mathematically correct, gives incorrect results due to unprecision\n",
    "        # S_i += (row - mv) @ (row - mv).T\n",
    "        S_w += np.cov(X_train_std[y_train==label].T)\n",
    "    # S_w += (1 / n_i) * S_i\n",
    "    \n",
    "print('Within-class scatter matrix: {}x{}'.format(S_w.shape[0], S_w.shape[1]))"
   ]
  },
  {
   "cell_type": "markdown",
   "metadata": {},
   "source": [
    "$\\mathbf{S}_b = \\sum_{i=1}^{c} n_i (\\mathbf{m}_i - \\mathbf{m}) (\\mathbf{m}_i - \\mathbf{m})^T$\n",
    "\n",
    "$\\sum_{i=1}^{c} n_i (\\mathbf{m} - \\mathbf{m}) = 0$\n",
    "\n",
    "$\\mathrm{rank}(n_i (\\mathbf{m}_i - \\mathbf{m}) (\\mathbf{m}_i - \\mathbf{m})^T) \\leq 1 \\, \\text{(it is outer product of two vectors, the any column is proportional to all the others)} \\implies \\mathrm{rank}(\\mathbf{S}_b) \\leq c-1$"
   ]
  },
  {
   "cell_type": "code",
   "execution_count": 4,
   "metadata": {},
   "outputs": [
    {
     "name": "stdout",
     "output_type": "stream",
     "text": [
      "Between-class scatter matrix: 13x13\n",
      "Its rank: 2 \n"
     ]
    }
   ],
   "source": [
    "S_b = np.zeros((d,d))\n",
    "m = np.mean(X_train_std, axis=0).reshape(d, 1)\n",
    "for label, mv in zip(labels, mean_vecs):\n",
    "    n_i = X_train_std[y_train==label].shape[0]\n",
    "    mv = mv.reshape(d, 1)\n",
    "    S_b += n_i * (mv - m) @ (mv - m).T\n",
    "\n",
    "print('Between-class scatter matrix: {}x{}'.format(S_b.shape[0], S_b.shape[1]))\n",
    "print('Its rank: {} '.format(np.linalg.matrix_rank(S_b)))"
   ]
  },
  {
   "cell_type": "code",
   "execution_count": 5,
   "metadata": {},
   "outputs": [
    {
     "name": "stdout",
     "output_type": "stream",
     "text": [
      "Eigenvals - linear discriminants:\n",
      "9.45555\n",
      "4.39717\n",
      "0.00000\n",
      "0.00000\n",
      "0.00000\n",
      "0.00000\n",
      "0.00000\n",
      "0.00000\n",
      "0.00000\n",
      "0.00000\n",
      "0.00000\n",
      "0.00000\n",
      "0.00000\n"
     ]
    }
   ],
   "source": [
    "eigenvals, eigenvecs = np.linalg.eig(np.linalg.inv(S_w) @ S_b)\n",
    "eigenpairs = sorted([(np.abs(eigenvals[i]), eigenvecs[i]) for i in range(len(eigenvals))], key=lambda d: d[0], reverse=True)\n",
    "\n",
    "print('Eigenvals - linear discriminants:')\n",
    "for eigenpair in eigenpairs:\n",
    "    print('{:.5f}'.format(eigenpair[0]))"
   ]
  },
  {
   "cell_type": "code",
   "execution_count": 6,
   "metadata": {},
   "outputs": [
    {
     "data": {
      "image/png": "[encoded data removed]",
      "text/plain": [
       "<matplotlib.figure.Figure at 0x7fea65b1a550>"
      ]
     },
     "metadata": {},
     "output_type": "display_data"
    }
   ],
   "source": [
    "tot = sum(eigenvals.real)\n",
    "\n",
    "discr = [(i / tot) for i in sorted(eigenvals.real, reverse=True)]\n",
    "cum_discr = np.cumsum(discr)\n",
    "\n",
    "plt.bar(range(1, 14), discr, alpha=0.5, align='center', label='individual \"discriminability\"')\n",
    "plt.step(range(1, 14), cum_discr, where='mid', label='cumulative \"discriminability\"')\n",
    "plt.ylabel('\"discriminability\" ratio')\n",
    "plt.xlabel('Linear Discriminants')\n",
    "plt.ylim([-0.1, 1.1])\n",
    "plt.legend(loc='best')\n",
    "plt.show()"
   ]
  },
  {
   "cell_type": "markdown",
   "metadata": {},
   "source": [
    "The first two LDs capture 100% of the variance!"
   ]
  },
  {
   "cell_type": "code",
   "execution_count": 7,
   "metadata": {},
   "outputs": [
    {
     "data": {
      "image/png": "[encoded data removed]",
      "text/plain": [
       "<matplotlib.figure.Figure at 0x7fea65b170b8>"
      ]
     },
     "metadata": {},
     "output_type": "display_data"
    }
   ],
   "source": [
    "# Can't transpose an array\n",
    "W = np.hstack((eigenpairs[0][1][:, np.newaxis].real, eigenpairs[1][1][:, np.newaxis].real))\n",
    "X_train_lda = X_train_std @ W\n",
    "colors = ['r', 'b', 'g']\n",
    "markers = ['s', 'x', 'o']\n",
    "for l, c, m in zip(labels, colors, markers):\n",
    "    plt.scatter(X_train_lda[y_train==l, 0], X_train_lda[y_train==l, 1] * (-1), c=c, label=l, marker=m)\n",
    "\n",
    "plt.xlabel('LD 1')\n",
    "plt.ylabel('LD 2')\n",
    "plt.legend(loc='lower right')\n",
    "plt.show()"
   ]
  },
  {
   "cell_type": "code",
   "execution_count": 8,
   "metadata": {},
   "outputs": [
    {
     "data": {
      "image/png": "[encoded data removed]",
      "text/plain": [
       "<matplotlib.figure.Figure at 0x7fea65b20828>"
      ]
     },
     "metadata": {},
     "output_type": "display_data"
    }
   ],
   "source": [
    "from sklearn.discriminant_analysis import LinearDiscriminantAnalysis as LDA\n",
    "\n",
    "lda = LDA(n_components=2)\n",
    "\n",
    "X_train_lda = lda.fit_transform(X_train_std, y_train)\n",
    "\n",
    "lr = LogisticRegression()\n",
    "lr = lr.fit(X_train_lda, y_train)\n",
    "\n",
    "plot_decision_regions(X_train_lda, y_train, classifier=lr)\n",
    "\n",
    "plt.xlabel('LD 1')\n",
    "plt.ylabel('LD 2')\n",
    "\n",
    "plt.legend(loc='lower left')\n",
    "\n",
    "plt.show()"
   ]
  },
  {
   "cell_type": "code",
   "execution_count": 10,
   "metadata": {},
   "outputs": [
    {
     "data": {
      "text/plain": [
       "(124, 2)"
      ]
     },
     "execution_count": 10,
     "metadata": {},
     "output_type": "execute_result"
    }
   ],
   "source": [
    "X_train_lda.shape"
   ]
  },
  {
   "cell_type": "code",
   "execution_count": null,
   "metadata": {
    "collapsed": true
   },
   "outputs": [],
   "source": []
  }
 ],
 "metadata": {
  "kernelspec": {
   "display_name": "Python 3",
   "language": "python",
   "name": "python3"
  },
  "language_info": {
   "codemirror_mode": {
    "name": "ipython",
    "version": 3
   },
   "file_extension": ".py",
   "mimetype": "text/x-python",
   "name": "python",
   "nbconvert_exporter": "python",
   "pygments_lexer": "ipython3",
   "version": "3.5.2"
  }
 },
 "nbformat": 4,
 "nbformat_minor": 2
}
