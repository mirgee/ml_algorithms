{
 "cells": [
  {
   "cell_type": "markdown",
   "metadata": {},
   "source": [
    "# Perceptron"
   ]
  },
  {
   "cell_type": "markdown",
   "metadata": {},
   "source": [
    "* Give biological introduction, provide two images - one biological, one artificial\n",
    "* Explain how the algorithm works mathematically\n",
    "* Maybe give an animation of how the discriminative line moves\n",
    "* They can be trained to implement an AND gate"
   ]
  },
  {
   "cell_type": "markdown",
   "metadata": {},
   "source": [
    "1. Initialize the weights\n",
    "2. For each training sample $\\mathbf{x}^{(i)}$\n",
    "    3. Compute $\\hat{y}^{(i)} = \\phi (\\mathbf{w}^T \\mathbf{x}^{(i)})$\n",
    "    4. Compute $\\mathbf{w} := \\mathbf{w} + \\eta(y^{(i)} - \\hat{y}^{(i)}) \\mathbf{x}^{(i)}$\n",
    "\n",
    "Alternatively, we could do the update using batch gradient descent, where, rather then shifting the hyperplane, we use RMSE, $\\phi (z) = z$ is an identity and step 4. would look like this:\n",
    "$w_i := w_i - \\sum_j \\eta(y^{(j)} - \\hat{y}^{(j)}) x_i^{(j)} \\rightarrow \\Delta \\mathbf{w} = \\eta (\\mathbf{y} - \\hat{\\mathbf{y}})^T\\mathbf{X}^T$"
   ]
  },
  {
   "cell_type": "markdown",
   "metadata": {},
   "source": [
    "* In the case that $y^{(i)} = \\hat{y}^{(i)}$ the weights remain unchanged\n",
    "* In the case that $y^{(i)} \\neq \\hat{y}^{(i)}$ the weights are moved in the direction of $\\mathbf{x}^{(i)}$. This is because if $\\hat{y}^{(i)}$ is negative and it should be positive, i.e. $z$ is too small, we  $2\\eta \\mathbf{x}^{(i)}$, i.e. the vectors w and x are too orthogonal, so we should move in the direciton of the other (but we can't move x). Adding multiple of the vector ensures that. The other case is analogous, but instead we subtract it  (move it away).\n",
    "* The classes must be linearly separable."
   ]
  },
  {
   "cell_type": "code",
   "execution_count": 33,
   "metadata": {
    "collapsed": true
   },
   "outputs": [],
   "source": [
    "import numpy as np\n",
    "from abc import abstractmethod\n",
    "\n",
    "class Perceptron:\n",
    "    \n",
    "    def __init__(self, num_iters=100, learning_rate=1, epsilon=0.01, init_mean=0.0, init_std=0.01, random_state=0):\n",
    "        self.num_iters = num_iters\n",
    "        self.learning_rate = learning_rate\n",
    "        self.epsilon = epsilon\n",
    "        self.init_mean = init_mean\n",
    "        self.init_std = init_std\n",
    "        self.random_state = random_state\n",
    "        \n",
    "    def _init_weights(self, X):\n",
    "        rgen = np.random.RandomState(self.random_state)\n",
    "        self.w_ = rgen.normal(loc=self.init_mean, scale=self.init_std, size=X.shape[1]+1)\n",
    "        \n",
    "    def _predict(self, x):\n",
    "        return self._activation_function(x @ self.w_[1:] + self.w_[0])\n",
    "    \n",
    "    def _plot_dec_boundary(self):\n",
    "        pass\n",
    "    \n",
    "    @abstractmethod\n",
    "    def fit(self, X, Y):\n",
    "        pass\n",
    "                 \n",
    "    @abstractmethod\n",
    "    def _activation_function(self, z):\n",
    "        pass\n",
    "    \n",
    "        \n",
    "    @abstractmethod\n",
    "    def _update_weights(self, y_hat, x, y):\n",
    "        pass\n",
    "\n",
    "\n",
    "class PerceptronDelta(Perceptron):\n",
    "    \n",
    "    def fit(self, X, y):\n",
    "        self.loss_history_ = []\n",
    "        \n",
    "        self._init_weights(X)\n",
    "        \n",
    "        for _ in range(self.num_iters):\n",
    "            num_errors = 0\n",
    "            for x_i, y_i in zip(X, y):\n",
    "                y_i_hat = self._predict(x_i)\n",
    "                num_errors += 1 if y_i_hat != y_i else 0\n",
    "                self._update_weights(y_i_hat, x_i, y_i)\n",
    "            loss = self._record_loss(num_errors, X)\n",
    "            if loss < self.epsilon:\n",
    "                break\n",
    "        return self\n",
    "                \n",
    "    def _activation_function(self, z):\n",
    "        return 1 if z >= 0 else -1\n",
    "\n",
    "    def _update_weights(self, y_hat, x, y):\n",
    "        update = self.learning_rate * (y-y_hat)\n",
    "        self.w_[1:] += update*x\n",
    "        self.w_[0] += update \n",
    "    \n",
    "    def _record_loss(self, num_errors, X):\n",
    "        loss = num_errors / len(X)\n",
    "        self.loss_history_.append(loss)\n",
    "        return loss\n",
    "        \n",
    "    \n",
    "class PerceptronBGD(Perceptron):\n",
    "    \n",
    "    def fit(self, X, y):\n",
    "        self.loss_history_ = []\n",
    "        \n",
    "        self._init_weights(X)\n",
    "        for _ in range(self.num_iters):\n",
    "            y_hats = self._predict(X)\n",
    "            errors = y - y_hats\n",
    "            self._update_weights(errors, X)\n",
    "            self._record_loss(errors)\n",
    "        return self\n",
    "            \n",
    "    def _update_weights(self, errors, X):\n",
    "        self.w_[1:] += self.learning_rate * X.T @ errors\n",
    "        self.w_[0:] += self.learning_rate * np.sum(errors)\n",
    "        \n",
    "    def _record_loss(self, errors):\n",
    "        loss = 0.5 * np.sum(errors**2)\n",
    "        self.loss_history_.append(loss)\n",
    "        \n",
    "    def _activation_function(self, z):\n",
    "        return z\n",
    "    \n",
    "    \n",
    "class PerceptronSGD(Perceptron):\n",
    "    \n",
    "    def partial_fit(self, X, y):\n",
    "        pass\n",
    "    \n",
    "    def _activation_function(self, z):\n",
    "        return z\n",
    "    \n",
    "class PerceptronMBGD(Perceptron):\n",
    "    \n",
    "    def partial_fit(self, X, y):\n",
    "        pass\n",
    "    \n",
    "    def _activation_function(self, z):\n",
    "        return z"
   ]
  },
  {
   "cell_type": "code",
   "execution_count": 34,
   "metadata": {},
   "outputs": [
    {
     "name": "stdout",
     "output_type": "stream",
     "text": [
      "Unique classes: Iris-setosa, Iris-versicolor, Iris-virginica\n"
     ]
    }
   ],
   "source": [
    "import pandas as pd\n",
    "\n",
    "df = pd.read_csv('https://archive.ics.uci.edu/ml/machine-learning-databases/iris/iris.data', header=None)\n",
    "df.sort_values(by=4)\n",
    "print('Unique classes: {}'.format(', '.join(df[4].unique())))"
   ]
  },
  {
   "cell_type": "code",
   "execution_count": 35,
   "metadata": {
    "collapsed": true
   },
   "outputs": [],
   "source": [
    "train_size = 100\n",
    "test_size = 50\n",
    "X_train, y_train = df.iloc[:train_size, :-1].values, df.iloc[:train_size, 4].values\n",
    "y_train = np.where(y_train == 'Iris-setosa', -1, 1)"
   ]
  },
  {
   "cell_type": "code",
   "execution_count": 36,
   "metadata": {},
   "outputs": [
    {
     "data": {
      "image/png": "[encoded data removed]",
      "text/plain": [
       "<matplotlib.figure.Figure at 0x7f24c5494ac8>"
      ]
     },
     "metadata": {},
     "output_type": "display_data"
    }
   ],
   "source": [
    "import matplotlib.pyplot as plt\n",
    "plt.scatter(X_train[:50, 0], X_train[:50, 2])\n",
    "plt.scatter(X_train[50:, 0], X_train[50:, 2])\n",
    "plt.show()"
   ]
  },
  {
   "cell_type": "code",
   "execution_count": 37,
   "metadata": {},
   "outputs": [
    {
     "name": "stderr",
     "output_type": "stream",
     "text": [
      "/home/miroslav/.local/lib/python3.5/site-packages/ipykernel_launcher.py:88: RuntimeWarning: overflow encountered in square\n"
     ]
    },
    {
     "data": {
      "image/png": "[encoded data removed]",
      "text/plain": [
       "<matplotlib.figure.Figure at 0x7f24c5616da0>"
      ]
     },
     "metadata": {},
     "output_type": "display_data"
    }
   ],
   "source": [
    "fig, ax = plt.subplots(1, 2, figsize=(10,4))\n",
    "perc_bgd1 = PerceptronBGD(num_iters=100, learning_rate=0.0001)\n",
    "perc_bgd2 = PerceptronBGD(num_iters=100, learning_rate=0.01)\n",
    "perc_bgd1.fit(X_train[:, (0,2)], y_train)\n",
    "perc_bgd2.fit(X_train[:, (0,2)], y_train)\n",
    "\n",
    "ax[0].plot(range(1, len(perc_bgd1.loss_history_)+1), np.log(perc_bgd1.loss_history_))\n",
    "ax[0].set_title('loss = 0.0001')\n",
    "ax[0].set_ylabel('Log error')\n",
    "ax[0].set_xlabel('Epoch')\n",
    "ax[1].plot(range(1, len(perc_bgd2.loss_history_)+1), np.log(perc_bgd2.loss_history_))\n",
    "ax[1].set_title('loss = 0.01')\n",
    "ax[1].set_ylabel('log error')\n",
    "ax[1].set_xlabel('Epoch')\n",
    "plt.show()"
   ]
  },
  {
   "cell_type": "code",
   "execution_count": 38,
   "metadata": {},
   "outputs": [
    {
     "data": {
      "image/png": "[encoded data removed]",
      "text/plain": [
       "<matplotlib.figure.Figure at 0x7f24ec0aec88>"
      ]
     },
     "metadata": {},
     "output_type": "display_data"
    }
   ],
   "source": [
    "x = np.linspace(4.5, 7, 100)\n",
    "y = (-x*perc_bgd1.w_[1] - perc_bgd1.w_[0]) / perc_bgd1.w_[2]\n",
    "plt.scatter(X_train[:50, 0], X_train[:50, 2])\n",
    "plt.scatter(X_train[50:, 0], X_train[50:, 2])\n",
    "plt.plot(x, y)\n",
    "plt.show()"
   ]
  },
  {
   "cell_type": "code",
   "execution_count": null,
   "metadata": {
    "collapsed": true
   },
   "outputs": [],
   "source": []
  }
 ],
 "metadata": {
  "kernelspec": {
   "display_name": "Python 3",
   "language": "python",
   "name": "python3"
  },
  "language_info": {
   "codemirror_mode": {
    "name": "ipython",
    "version": 3
   },
   "file_extension": ".py",
   "mimetype": "text/x-python",
   "name": "python",
   "nbconvert_exporter": "python",
   "pygments_lexer": "ipython3",
   "version": "3.5.2"
  },
  "toc": {
   "base_numbering": 1,
   "nav_menu": {},
   "number_sections": true,
   "sideBar": true,
   "skip_h1_title": false,
   "title_cell": "Table of Contents",
   "title_sidebar": "Contents",
   "toc_cell": false,
   "toc_position": {},
   "toc_section_display": true,
   "toc_window_display": true
  }
 },
 "nbformat": 4,
 "nbformat_minor": 2
}
