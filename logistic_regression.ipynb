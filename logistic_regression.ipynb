{
 "cells": [
  {
   "cell_type": "markdown",
   "metadata": {},
   "source": [
    "# Logistic Regression"
   ]
  },
  {
   "cell_type": "markdown",
   "metadata": {},
   "source": [
    "* Explain difference between odds and probability. Let a favorable outcome be any chosen outcome, unfavorable outcome be its complement. Odds is the ratio of favorable to unfavorable outcomes, probability is the ratio of favorable outcomes to unfavorable outcomes.\n",
    "* Logistic regression is a classification model, not a regression model. This means, for example, that MSE cannot be used as evaluation metric.\n",
    "\n",
    "Why logistic?\n",
    "\n",
    "$\\mathrm{logit}(p) = \\log OR = \\log \\frac{p}{1-p}$\n",
    "\n",
    "We will model the logit function of a particular event (characterized by a feature vector) as a hyperplane (in the feature space).\n",
    "\n",
    "$\\mathrm{logit}(P(y=1\\,|\\,\\mathbf{x})) = \\mathbf{w}^T \\mathbf{x}$\n",
    "\n",
    "Solving the equation for $P(y=1\\,|\\,\\mathbf{x})$ gives us the sigmoid function:\n",
    "\n",
    "$\\frac{p}{1-p} = e^{\\mathbf{w}^T \\mathbf{x}} \\rightarrow p (1 + e^{\\mathbf{w}^T \\mathbf{x}}) = e^{\\mathbf{w}^T \\mathbf{x}} \\rightarrow p = \\frac{e^{\\mathbf{w}^T \\mathbf{x}}}{1 + e^{\\mathbf{w}^T \\mathbf{x}}} = \\frac{1}{1 + e^{-\\mathbf{w}^T \\mathbf{x}}} = \\phi(\\mathbf{w}^T \\mathbf{x})$\n",
    "\n",
    "The weights can be found using batch gradient descent with the sigmoid function. However, cost function must be different. The outputs of our estimation function are probabilities, so we want to maximize the probability of all our samples are correctly classified. Assuming that the samples are iid, and since the probability $P(y^{(i)} \\, | \\, \\mathbf{x}^{(i)}; \\mathbf{w})$ has Bernouilli distribution, we can express that as the likelihood:\n",
    "\n",
    "$L(\\mathbf{w}) = P(\\mathbf{y}\\,|\\,\\mathbf{X}; \\mathbf{w}) = \\prod_i P(y^{(i)} \\, | \\, \\mathbf{x}^{(i)}; \\mathbf{w}) = \\prod_i (\\phi(\\mathbf{w}^T\\mathbf{x}^{(i)})^{y^{(i)}} (1 - \\phi(\\mathbf{w}^T\\mathbf{x}^{(i)})^{1-y^{(i)}}$ \n",
    "\n",
    "To avoid rounding errors on due to finite float precision on computers, we minimize the negative log likelihood: $J(\\mathbf{w}) = -\\ln L(\\mathbf{w}) = - \\sum_i \\ln P(y^{(i)} \\, | \\, \\mathbf{x}^{(i)}; \\mathbf{w}) = -\\sum_i (y^{(i)} \\ln \\phi(\\mathbf{w}^T\\mathbf{x}^{(i)})^{y^{(i)}} + (1-y^{(i)})\\ln(1-\\phi(\\mathbf{w}^T\\mathbf{x}^{(i)})))$. "
   ]
  },
  {
   "cell_type": "code",
   "execution_count": 4,
   "metadata": {},
   "outputs": [
    {
     "data": {
      "image/png": "[encoded data removed]",
      "text/plain": [
       "<matplotlib.figure.Figure at 0x7f5cd7716f28>"
      ]
     },
     "metadata": {},
     "output_type": "display_data"
    }
   ],
   "source": [
    "import matplotlib.pyplot as plt\n",
    "import numpy as np\n",
    "\n",
    "def phi(z):\n",
    "    return 1/(1+np.exp(-z))\n",
    "z = np.arange(-10, 10, 1) \n",
    "plt.plot(phi(z), -np.log(phi(z)), label=r'$y^{(i)}=1$')\n",
    "plt.plot(phi(z), -np.log(1-phi(z)), label=r'$y^{(i)}=0$')\n",
    "plt.ylim(0, 5)\n",
    "plt.xlim(0, 1)\n",
    "plt.xlabel(r'$\\phi(z)$')\n",
    "plt.ylabel(r'$J(\\mathbf{w})$')\n",
    "plt.legend()\n",
    "plt.show()"
   ]
  },
  {
   "cell_type": "code",
   "execution_count": 218,
   "metadata": {},
   "outputs": [],
   "source": [
    "def safe_log(x):\n",
    "    return np.where(x > 0.001, np.log(x), 0)\n",
    "\n",
    "class LogisticRegression:\n",
    "    \n",
    "    def __init__(self, num_iters=100, learning_rate=0.05, epsilon=0.01, init_mean=0.0, init_std=0.01, random_state=1):\n",
    "        self.num_iters = num_iters\n",
    "        self.learning_rate = learning_rate\n",
    "        self.epsilon = epsilon\n",
    "        self.init_mean = init_mean\n",
    "        self.init_std = init_std\n",
    "        self.random_state = random_state\n",
    "        \n",
    "    def _init_weights(self, X):\n",
    "        rgen = np.random.RandomState(self.random_state)\n",
    "        self.w_ = rgen.normal(loc=self.init_mean, scale=self.init_std, size=X.shape[1]+1)\n",
    "        \n",
    "    def predict(self, x):\n",
    "        return np.where(x >= 0.5, 1, 0)\n",
    "    \n",
    "    def _input(self, x):\n",
    "        return x @ self.w_[1:] + self.w_[0]\n",
    "    \n",
    "    def _activation(self, z):\n",
    "        return 1. / (1 + np.exp(-z))\n",
    "                    \n",
    "    def _update_weights(self, errors, X):\n",
    "        self.w_[1:] += self.learning_rate * X.T @ errors\n",
    "        self.w_[0] += self.learning_rate * np.sum(errors)\n",
    "        \n",
    "    def _record_loss(self, y, output):\n",
    "        loss = (-y @ safe_log(output)) - (1-y) @ safe_log(1-output)\n",
    "        self.loss_history_.append(loss)\n",
    "        \n",
    "    def fit(self, X, y):\n",
    "        self.loss_history_ = []\n",
    "        \n",
    "        self._init_weights(X)\n",
    "        for _ in range(self.num_iters):\n",
    "            output = self._activation(self._input(X))\n",
    "            errors = y - output\n",
    "            self._update_weights(errors, X)\n",
    "            self._record_loss(y, output)"
   ]
  },
  {
   "cell_type": "code",
   "execution_count": 219,
   "metadata": {},
   "outputs": [
    {
     "name": "stdout",
     "output_type": "stream",
     "text": [
      "Unique classes: Iris-setosa, Iris-versicolor, Iris-virginica\n"
     ]
    }
   ],
   "source": [
    "import pandas as pd\n",
    "\n",
    "df = pd.read_csv('https://archive.ics.uci.edu/ml/machine-learning-databases/iris/iris.data', header=None)\n",
    "df.sort_values(by=4)\n",
    "print('Unique classes: {}'.format(', '.join(df[4].unique())))"
   ]
  },
  {
   "cell_type": "code",
   "execution_count": 216,
   "metadata": {},
   "outputs": [],
   "source": [
    "train_size = 100\n",
    "test_size = 50\n",
    "X_train, y_train = df.iloc[:train_size, (0,2)].values, df.iloc[:train_size, 4].values\n",
    "y_train = np.where(y_train == 'Iris-setosa', 1, 0)"
   ]
  },
  {
   "cell_type": "code",
   "execution_count": 217,
   "metadata": {},
   "outputs": [
    {
     "name": "stderr",
     "output_type": "stream",
     "text": [
      "/home/miroslav/.local/lib/python3.5/site-packages/ipykernel_launcher.py:2: RuntimeWarning: divide by zero encountered in log\n",
      "  \n"
     ]
    }
   ],
   "source": [
    "lr = LogisticRegression()\n",
    "lr.fit(X_train, y_train)"
   ]
  },
  {
   "cell_type": "code",
   "execution_count": 210,
   "metadata": {},
   "outputs": [
    {
     "data": {
      "image/png": "[encoded data removed]",
      "text/plain": [
       "<matplotlib.figure.Figure at 0x7f5cd2d138d0>"
      ]
     },
     "metadata": {},
     "output_type": "display_data"
    }
   ],
   "source": [
    "import matplotlib.pyplot as plt\n",
    "\n",
    "x = np.linspace(4.5, 7, 100)\n",
    "y = (-x*lr.w_[1] - lr.w_[0]) / lr.w_[2]\n",
    "plt.scatter(X_train[:50, 0], X_train[:50, 1])\n",
    "plt.scatter(X_train[50:, 0], X_train[50:, 1])\n",
    "plt.plot(x, y)\n",
    "plt.show()"
   ]
  },
  {
   "cell_type": "code",
   "execution_count": null,
   "metadata": {
    "collapsed": true
   },
   "outputs": [],
   "source": []
  }
 ],
 "metadata": {
  "kernelspec": {
   "display_name": "Python 3",
   "language": "python",
   "name": "python3"
  },
  "language_info": {
   "codemirror_mode": {
    "name": "ipython",
    "version": 3
   },
   "file_extension": ".py",
   "mimetype": "text/x-python",
   "name": "python",
   "nbconvert_exporter": "python",
   "pygments_lexer": "ipython3",
   "version": "3.5.2"
  }
 },
 "nbformat": 4,
 "nbformat_minor": 2
}
